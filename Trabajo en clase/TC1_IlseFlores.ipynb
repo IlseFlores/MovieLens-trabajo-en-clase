{
 "cells": [
  {
   "cell_type": "code",
   "execution_count": 36,
   "id": "initial_id",
   "metadata": {
    "collapsed": true,
    "ExecuteTime": {
     "end_time": "2024-01-30T03:34:16.384387Z",
     "start_time": "2024-01-30T03:34:16.375808Z"
    }
   },
   "outputs": [],
   "source": [
    "import pandas as pd\n",
    "\n"
   ]
  },
  {
   "cell_type": "code",
   "outputs": [],
   "source": [
    "rating = pd.read_csv(\"/Users/reginaflores/Documents/ProyectoCDRepos/MovieLens-trabajo-en-clase/data/movies.csv\")\n",
    "movies = pd.read_csv(\"/Users/reginaflores/Documents/ProyectoCDRepos/MovieLens-trabajo-en-clase/data/ratings.csv\")\n"
   ],
   "metadata": {
    "collapsed": false,
    "ExecuteTime": {
     "end_time": "2024-01-30T03:34:16.461765Z",
     "start_time": "2024-01-30T03:34:16.395208Z"
    }
   },
   "id": "bc1760f93610ba7c",
   "execution_count": 37
  },
  {
   "cell_type": "code",
   "outputs": [
    {
     "data": {
      "text/plain": "        userId  movieId  rating   timestamp\n0            1        1     4.0   964982703\n1            1        3     4.0   964981247\n2            1        6     4.0   964982224\n3            1       47     5.0   964983815\n4            1       50     5.0   964982931\n...        ...      ...     ...         ...\n100831     610   166534     4.0  1493848402\n100832     610   168248     5.0  1493850091\n100833     610   168250     5.0  1494273047\n100834     610   168252     5.0  1493846352\n100835     610   170875     3.0  1493846415\n\n[100836 rows x 4 columns]",
      "text/html": "<div>\n<style scoped>\n    .dataframe tbody tr th:only-of-type {\n        vertical-align: middle;\n    }\n\n    .dataframe tbody tr th {\n        vertical-align: top;\n    }\n\n    .dataframe thead th {\n        text-align: right;\n    }\n</style>\n<table border=\"1\" class=\"dataframe\">\n  <thead>\n    <tr style=\"text-align: right;\">\n      <th></th>\n      <th>userId</th>\n      <th>movieId</th>\n      <th>rating</th>\n      <th>timestamp</th>\n    </tr>\n  </thead>\n  <tbody>\n    <tr>\n      <th>0</th>\n      <td>1</td>\n      <td>1</td>\n      <td>4.0</td>\n      <td>964982703</td>\n    </tr>\n    <tr>\n      <th>1</th>\n      <td>1</td>\n      <td>3</td>\n      <td>4.0</td>\n      <td>964981247</td>\n    </tr>\n    <tr>\n      <th>2</th>\n      <td>1</td>\n      <td>6</td>\n      <td>4.0</td>\n      <td>964982224</td>\n    </tr>\n    <tr>\n      <th>3</th>\n      <td>1</td>\n      <td>47</td>\n      <td>5.0</td>\n      <td>964983815</td>\n    </tr>\n    <tr>\n      <th>4</th>\n      <td>1</td>\n      <td>50</td>\n      <td>5.0</td>\n      <td>964982931</td>\n    </tr>\n    <tr>\n      <th>...</th>\n      <td>...</td>\n      <td>...</td>\n      <td>...</td>\n      <td>...</td>\n    </tr>\n    <tr>\n      <th>100831</th>\n      <td>610</td>\n      <td>166534</td>\n      <td>4.0</td>\n      <td>1493848402</td>\n    </tr>\n    <tr>\n      <th>100832</th>\n      <td>610</td>\n      <td>168248</td>\n      <td>5.0</td>\n      <td>1493850091</td>\n    </tr>\n    <tr>\n      <th>100833</th>\n      <td>610</td>\n      <td>168250</td>\n      <td>5.0</td>\n      <td>1494273047</td>\n    </tr>\n    <tr>\n      <th>100834</th>\n      <td>610</td>\n      <td>168252</td>\n      <td>5.0</td>\n      <td>1493846352</td>\n    </tr>\n    <tr>\n      <th>100835</th>\n      <td>610</td>\n      <td>170875</td>\n      <td>3.0</td>\n      <td>1493846415</td>\n    </tr>\n  </tbody>\n</table>\n<p>100836 rows × 4 columns</p>\n</div>"
     },
     "execution_count": 38,
     "metadata": {},
     "output_type": "execute_result"
    }
   ],
   "source": [
    "movies\n"
   ],
   "metadata": {
    "collapsed": false,
    "ExecuteTime": {
     "end_time": "2024-01-30T03:34:16.469191Z",
     "start_time": "2024-01-30T03:34:16.465945Z"
    }
   },
   "id": "26d8c892eee55b8e",
   "execution_count": 38
  },
  {
   "cell_type": "code",
   "outputs": [
    {
     "data": {
      "text/plain": "      movieId                                      title  \\\n0           1                           Toy Story (1995)   \n1           2                             Jumanji (1995)   \n2           3                    Grumpier Old Men (1995)   \n3           4                   Waiting to Exhale (1995)   \n4           5         Father of the Bride Part II (1995)   \n...       ...                                        ...   \n9737   193581  Black Butler: Book of the Atlantic (2017)   \n9738   193583               No Game No Life: Zero (2017)   \n9739   193585                               Flint (2017)   \n9740   193587        Bungo Stray Dogs: Dead Apple (2018)   \n9741   193609        Andrew Dice Clay: Dice Rules (1991)   \n\n                                           genres  \n0     Adventure|Animation|Children|Comedy|Fantasy  \n1                      Adventure|Children|Fantasy  \n2                                  Comedy|Romance  \n3                            Comedy|Drama|Romance  \n4                                          Comedy  \n...                                           ...  \n9737              Action|Animation|Comedy|Fantasy  \n9738                     Animation|Comedy|Fantasy  \n9739                                        Drama  \n9740                             Action|Animation  \n9741                                       Comedy  \n\n[9742 rows x 3 columns]",
      "text/html": "<div>\n<style scoped>\n    .dataframe tbody tr th:only-of-type {\n        vertical-align: middle;\n    }\n\n    .dataframe tbody tr th {\n        vertical-align: top;\n    }\n\n    .dataframe thead th {\n        text-align: right;\n    }\n</style>\n<table border=\"1\" class=\"dataframe\">\n  <thead>\n    <tr style=\"text-align: right;\">\n      <th></th>\n      <th>movieId</th>\n      <th>title</th>\n      <th>genres</th>\n    </tr>\n  </thead>\n  <tbody>\n    <tr>\n      <th>0</th>\n      <td>1</td>\n      <td>Toy Story (1995)</td>\n      <td>Adventure|Animation|Children|Comedy|Fantasy</td>\n    </tr>\n    <tr>\n      <th>1</th>\n      <td>2</td>\n      <td>Jumanji (1995)</td>\n      <td>Adventure|Children|Fantasy</td>\n    </tr>\n    <tr>\n      <th>2</th>\n      <td>3</td>\n      <td>Grumpier Old Men (1995)</td>\n      <td>Comedy|Romance</td>\n    </tr>\n    <tr>\n      <th>3</th>\n      <td>4</td>\n      <td>Waiting to Exhale (1995)</td>\n      <td>Comedy|Drama|Romance</td>\n    </tr>\n    <tr>\n      <th>4</th>\n      <td>5</td>\n      <td>Father of the Bride Part II (1995)</td>\n      <td>Comedy</td>\n    </tr>\n    <tr>\n      <th>...</th>\n      <td>...</td>\n      <td>...</td>\n      <td>...</td>\n    </tr>\n    <tr>\n      <th>9737</th>\n      <td>193581</td>\n      <td>Black Butler: Book of the Atlantic (2017)</td>\n      <td>Action|Animation|Comedy|Fantasy</td>\n    </tr>\n    <tr>\n      <th>9738</th>\n      <td>193583</td>\n      <td>No Game No Life: Zero (2017)</td>\n      <td>Animation|Comedy|Fantasy</td>\n    </tr>\n    <tr>\n      <th>9739</th>\n      <td>193585</td>\n      <td>Flint (2017)</td>\n      <td>Drama</td>\n    </tr>\n    <tr>\n      <th>9740</th>\n      <td>193587</td>\n      <td>Bungo Stray Dogs: Dead Apple (2018)</td>\n      <td>Action|Animation</td>\n    </tr>\n    <tr>\n      <th>9741</th>\n      <td>193609</td>\n      <td>Andrew Dice Clay: Dice Rules (1991)</td>\n      <td>Comedy</td>\n    </tr>\n  </tbody>\n</table>\n<p>9742 rows × 3 columns</p>\n</div>"
     },
     "execution_count": 39,
     "metadata": {},
     "output_type": "execute_result"
    }
   ],
   "source": [
    "rating"
   ],
   "metadata": {
    "collapsed": false,
    "ExecuteTime": {
     "end_time": "2024-01-30T03:34:16.479441Z",
     "start_time": "2024-01-30T03:34:16.473877Z"
    }
   },
   "id": "c5c8247b7956ff39",
   "execution_count": 39
  },
  {
   "cell_type": "markdown",
   "source": [],
   "metadata": {
    "collapsed": false
   },
   "id": "fb2bea66fcd6830c"
  },
  {
   "cell_type": "code",
   "outputs": [
    {
     "data": {
      "text/plain": "        userId  movieId  rating   timestamp                           title  \\\n0            1        1     4.0   964982703                Toy Story (1995)   \n1            1        3     4.0   964981247         Grumpier Old Men (1995)   \n2            1        6     4.0   964982224                     Heat (1995)   \n3            1       47     5.0   964983815     Seven (a.k.a. Se7en) (1995)   \n4            1       50     5.0   964982931      Usual Suspects, The (1995)   \n...        ...      ...     ...         ...                             ...   \n100831     610   166534     4.0  1493848402                    Split (2017)   \n100832     610   168248     5.0  1493850091   John Wick: Chapter Two (2017)   \n100833     610   168250     5.0  1494273047                  Get Out (2017)   \n100834     610   168252     5.0  1493846352                    Logan (2017)   \n100835     610   170875     3.0  1493846415  The Fate of the Furious (2017)   \n\n                                             genres  \n0       Adventure|Animation|Children|Comedy|Fantasy  \n1                                    Comedy|Romance  \n2                             Action|Crime|Thriller  \n3                                  Mystery|Thriller  \n4                            Crime|Mystery|Thriller  \n...                                             ...  \n100831                        Drama|Horror|Thriller  \n100832                        Action|Crime|Thriller  \n100833                                       Horror  \n100834                                Action|Sci-Fi  \n100835                  Action|Crime|Drama|Thriller  \n\n[100836 rows x 6 columns]",
      "text/html": "<div>\n<style scoped>\n    .dataframe tbody tr th:only-of-type {\n        vertical-align: middle;\n    }\n\n    .dataframe tbody tr th {\n        vertical-align: top;\n    }\n\n    .dataframe thead th {\n        text-align: right;\n    }\n</style>\n<table border=\"1\" class=\"dataframe\">\n  <thead>\n    <tr style=\"text-align: right;\">\n      <th></th>\n      <th>userId</th>\n      <th>movieId</th>\n      <th>rating</th>\n      <th>timestamp</th>\n      <th>title</th>\n      <th>genres</th>\n    </tr>\n  </thead>\n  <tbody>\n    <tr>\n      <th>0</th>\n      <td>1</td>\n      <td>1</td>\n      <td>4.0</td>\n      <td>964982703</td>\n      <td>Toy Story (1995)</td>\n      <td>Adventure|Animation|Children|Comedy|Fantasy</td>\n    </tr>\n    <tr>\n      <th>1</th>\n      <td>1</td>\n      <td>3</td>\n      <td>4.0</td>\n      <td>964981247</td>\n      <td>Grumpier Old Men (1995)</td>\n      <td>Comedy|Romance</td>\n    </tr>\n    <tr>\n      <th>2</th>\n      <td>1</td>\n      <td>6</td>\n      <td>4.0</td>\n      <td>964982224</td>\n      <td>Heat (1995)</td>\n      <td>Action|Crime|Thriller</td>\n    </tr>\n    <tr>\n      <th>3</th>\n      <td>1</td>\n      <td>47</td>\n      <td>5.0</td>\n      <td>964983815</td>\n      <td>Seven (a.k.a. Se7en) (1995)</td>\n      <td>Mystery|Thriller</td>\n    </tr>\n    <tr>\n      <th>4</th>\n      <td>1</td>\n      <td>50</td>\n      <td>5.0</td>\n      <td>964982931</td>\n      <td>Usual Suspects, The (1995)</td>\n      <td>Crime|Mystery|Thriller</td>\n    </tr>\n    <tr>\n      <th>...</th>\n      <td>...</td>\n      <td>...</td>\n      <td>...</td>\n      <td>...</td>\n      <td>...</td>\n      <td>...</td>\n    </tr>\n    <tr>\n      <th>100831</th>\n      <td>610</td>\n      <td>166534</td>\n      <td>4.0</td>\n      <td>1493848402</td>\n      <td>Split (2017)</td>\n      <td>Drama|Horror|Thriller</td>\n    </tr>\n    <tr>\n      <th>100832</th>\n      <td>610</td>\n      <td>168248</td>\n      <td>5.0</td>\n      <td>1493850091</td>\n      <td>John Wick: Chapter Two (2017)</td>\n      <td>Action|Crime|Thriller</td>\n    </tr>\n    <tr>\n      <th>100833</th>\n      <td>610</td>\n      <td>168250</td>\n      <td>5.0</td>\n      <td>1494273047</td>\n      <td>Get Out (2017)</td>\n      <td>Horror</td>\n    </tr>\n    <tr>\n      <th>100834</th>\n      <td>610</td>\n      <td>168252</td>\n      <td>5.0</td>\n      <td>1493846352</td>\n      <td>Logan (2017)</td>\n      <td>Action|Sci-Fi</td>\n    </tr>\n    <tr>\n      <th>100835</th>\n      <td>610</td>\n      <td>170875</td>\n      <td>3.0</td>\n      <td>1493846415</td>\n      <td>The Fate of the Furious (2017)</td>\n      <td>Action|Crime|Drama|Thriller</td>\n    </tr>\n  </tbody>\n</table>\n<p>100836 rows × 6 columns</p>\n</div>"
     },
     "execution_count": 40,
     "metadata": {},
     "output_type": "execute_result"
    }
   ],
   "source": [
    "merged_data = pd.merge(movies, rating, on='movieId')\n",
    "merged_data"
   ],
   "metadata": {
    "collapsed": false,
    "ExecuteTime": {
     "end_time": "2024-01-30T03:34:16.548130Z",
     "start_time": "2024-01-30T03:34:16.481770Z"
    }
   },
   "id": "7a2ef94a85415272",
   "execution_count": 40
  },
  {
   "cell_type": "code",
   "outputs": [],
   "source": [
    "#convertir timestamp en fecha normal \n",
    "merged_data['timestamp']=pd.to_datetime(merged_data['timestamp'], unit= 's')\n"
   ],
   "metadata": {
    "collapsed": false,
    "ExecuteTime": {
     "end_time": "2024-01-30T03:34:16.589315Z",
     "start_time": "2024-01-30T03:34:16.503548Z"
    }
   },
   "id": "4622bc7a0caa9f65",
   "execution_count": 41
  },
  {
   "cell_type": "code",
   "outputs": [
    {
     "data": {
      "text/plain": "        userId  movieId  rating           timestamp  \\\n0            1        1     4.0 2000-07-30 18:45:03   \n1            1        3     4.0 2000-07-30 18:20:47   \n2            1        6     4.0 2000-07-30 18:37:04   \n3            1       47     5.0 2000-07-30 19:03:35   \n4            1       50     5.0 2000-07-30 18:48:51   \n...        ...      ...     ...                 ...   \n100831     610   166534     4.0 2017-05-03 21:53:22   \n100832     610   168248     5.0 2017-05-03 22:21:31   \n100833     610   168250     5.0 2017-05-08 19:50:47   \n100834     610   168252     5.0 2017-05-03 21:19:12   \n100835     610   170875     3.0 2017-05-03 21:20:15   \n\n                                 title  \\\n0                     Toy Story (1995)   \n1              Grumpier Old Men (1995)   \n2                          Heat (1995)   \n3          Seven (a.k.a. Se7en) (1995)   \n4           Usual Suspects, The (1995)   \n...                                ...   \n100831                    Split (2017)   \n100832   John Wick: Chapter Two (2017)   \n100833                  Get Out (2017)   \n100834                    Logan (2017)   \n100835  The Fate of the Furious (2017)   \n\n                                             genres  \n0       Adventure|Animation|Children|Comedy|Fantasy  \n1                                    Comedy|Romance  \n2                             Action|Crime|Thriller  \n3                                  Mystery|Thriller  \n4                            Crime|Mystery|Thriller  \n...                                             ...  \n100831                        Drama|Horror|Thriller  \n100832                        Action|Crime|Thriller  \n100833                                       Horror  \n100834                                Action|Sci-Fi  \n100835                  Action|Crime|Drama|Thriller  \n\n[100836 rows x 6 columns]",
      "text/html": "<div>\n<style scoped>\n    .dataframe tbody tr th:only-of-type {\n        vertical-align: middle;\n    }\n\n    .dataframe tbody tr th {\n        vertical-align: top;\n    }\n\n    .dataframe thead th {\n        text-align: right;\n    }\n</style>\n<table border=\"1\" class=\"dataframe\">\n  <thead>\n    <tr style=\"text-align: right;\">\n      <th></th>\n      <th>userId</th>\n      <th>movieId</th>\n      <th>rating</th>\n      <th>timestamp</th>\n      <th>title</th>\n      <th>genres</th>\n    </tr>\n  </thead>\n  <tbody>\n    <tr>\n      <th>0</th>\n      <td>1</td>\n      <td>1</td>\n      <td>4.0</td>\n      <td>2000-07-30 18:45:03</td>\n      <td>Toy Story (1995)</td>\n      <td>Adventure|Animation|Children|Comedy|Fantasy</td>\n    </tr>\n    <tr>\n      <th>1</th>\n      <td>1</td>\n      <td>3</td>\n      <td>4.0</td>\n      <td>2000-07-30 18:20:47</td>\n      <td>Grumpier Old Men (1995)</td>\n      <td>Comedy|Romance</td>\n    </tr>\n    <tr>\n      <th>2</th>\n      <td>1</td>\n      <td>6</td>\n      <td>4.0</td>\n      <td>2000-07-30 18:37:04</td>\n      <td>Heat (1995)</td>\n      <td>Action|Crime|Thriller</td>\n    </tr>\n    <tr>\n      <th>3</th>\n      <td>1</td>\n      <td>47</td>\n      <td>5.0</td>\n      <td>2000-07-30 19:03:35</td>\n      <td>Seven (a.k.a. Se7en) (1995)</td>\n      <td>Mystery|Thriller</td>\n    </tr>\n    <tr>\n      <th>4</th>\n      <td>1</td>\n      <td>50</td>\n      <td>5.0</td>\n      <td>2000-07-30 18:48:51</td>\n      <td>Usual Suspects, The (1995)</td>\n      <td>Crime|Mystery|Thriller</td>\n    </tr>\n    <tr>\n      <th>...</th>\n      <td>...</td>\n      <td>...</td>\n      <td>...</td>\n      <td>...</td>\n      <td>...</td>\n      <td>...</td>\n    </tr>\n    <tr>\n      <th>100831</th>\n      <td>610</td>\n      <td>166534</td>\n      <td>4.0</td>\n      <td>2017-05-03 21:53:22</td>\n      <td>Split (2017)</td>\n      <td>Drama|Horror|Thriller</td>\n    </tr>\n    <tr>\n      <th>100832</th>\n      <td>610</td>\n      <td>168248</td>\n      <td>5.0</td>\n      <td>2017-05-03 22:21:31</td>\n      <td>John Wick: Chapter Two (2017)</td>\n      <td>Action|Crime|Thriller</td>\n    </tr>\n    <tr>\n      <th>100833</th>\n      <td>610</td>\n      <td>168250</td>\n      <td>5.0</td>\n      <td>2017-05-08 19:50:47</td>\n      <td>Get Out (2017)</td>\n      <td>Horror</td>\n    </tr>\n    <tr>\n      <th>100834</th>\n      <td>610</td>\n      <td>168252</td>\n      <td>5.0</td>\n      <td>2017-05-03 21:19:12</td>\n      <td>Logan (2017)</td>\n      <td>Action|Sci-Fi</td>\n    </tr>\n    <tr>\n      <th>100835</th>\n      <td>610</td>\n      <td>170875</td>\n      <td>3.0</td>\n      <td>2017-05-03 21:20:15</td>\n      <td>The Fate of the Furious (2017)</td>\n      <td>Action|Crime|Drama|Thriller</td>\n    </tr>\n  </tbody>\n</table>\n<p>100836 rows × 6 columns</p>\n</div>"
     },
     "execution_count": 42,
     "metadata": {},
     "output_type": "execute_result"
    }
   ],
   "source": [
    "merged_data"
   ],
   "metadata": {
    "collapsed": false,
    "ExecuteTime": {
     "end_time": "2024-01-30T03:34:16.630624Z",
     "start_time": "2024-01-30T03:34:16.523861Z"
    }
   },
   "id": "13142821a5592754",
   "execution_count": 42
  },
  {
   "cell_type": "code",
   "outputs": [
    {
     "data": {
      "text/plain": "       userId  movieId  rating           timestamp  \\\n874         7        1     4.5 2005-01-25 06:52:26   \n875         7       50     4.5 2005-01-25 06:53:13   \n876         7       58     3.0 2005-01-25 06:45:20   \n877         7      150     4.5 2005-01-25 06:52:05   \n878         7      165     4.0 2005-01-25 06:53:07   \n...       ...      ...     ...                 ...   \n99466     608    30810     3.0 2005-05-29 23:07:09   \n99467     608    30822     4.0 2005-05-29 23:18:37   \n99468     608    31221     4.0 2005-05-31 01:48:41   \n99469     608    31696     5.0 2005-05-29 03:19:59   \n99473     608    32587     5.0 2005-05-27 02:50:47   \n\n                                            title  \\\n874                              Toy Story (1995)   \n875                    Usual Suspects, The (1995)   \n876             Postman, The (Postino, Il) (1994)   \n877                              Apollo 13 (1995)   \n878             Die Hard: With a Vengeance (1995)   \n...                                           ...   \n99466  Life Aquatic with Steve Zissou, The (2004)   \n99467                      In Good Company (2004)   \n99468                              Elektra (2005)   \n99469                          Constantine (2005)   \n99473                             Sin City (2005)   \n\n                                            genres  \n874    Adventure|Animation|Children|Comedy|Fantasy  \n875                         Crime|Mystery|Thriller  \n876                           Comedy|Drama|Romance  \n877                           Adventure|Drama|IMAX  \n878                          Action|Crime|Thriller  \n...                                            ...  \n99466                     Adventure|Comedy|Fantasy  \n99467                                 Comedy|Drama  \n99468                 Action|Adventure|Crime|Drama  \n99469               Action|Fantasy|Horror|Thriller  \n99473      Action|Crime|Film-Noir|Mystery|Thriller  \n\n[5810 rows x 6 columns]",
      "text/html": "<div>\n<style scoped>\n    .dataframe tbody tr th:only-of-type {\n        vertical-align: middle;\n    }\n\n    .dataframe tbody tr th {\n        vertical-align: top;\n    }\n\n    .dataframe thead th {\n        text-align: right;\n    }\n</style>\n<table border=\"1\" class=\"dataframe\">\n  <thead>\n    <tr style=\"text-align: right;\">\n      <th></th>\n      <th>userId</th>\n      <th>movieId</th>\n      <th>rating</th>\n      <th>timestamp</th>\n      <th>title</th>\n      <th>genres</th>\n    </tr>\n  </thead>\n  <tbody>\n    <tr>\n      <th>874</th>\n      <td>7</td>\n      <td>1</td>\n      <td>4.5</td>\n      <td>2005-01-25 06:52:26</td>\n      <td>Toy Story (1995)</td>\n      <td>Adventure|Animation|Children|Comedy|Fantasy</td>\n    </tr>\n    <tr>\n      <th>875</th>\n      <td>7</td>\n      <td>50</td>\n      <td>4.5</td>\n      <td>2005-01-25 06:53:13</td>\n      <td>Usual Suspects, The (1995)</td>\n      <td>Crime|Mystery|Thriller</td>\n    </tr>\n    <tr>\n      <th>876</th>\n      <td>7</td>\n      <td>58</td>\n      <td>3.0</td>\n      <td>2005-01-25 06:45:20</td>\n      <td>Postman, The (Postino, Il) (1994)</td>\n      <td>Comedy|Drama|Romance</td>\n    </tr>\n    <tr>\n      <th>877</th>\n      <td>7</td>\n      <td>150</td>\n      <td>4.5</td>\n      <td>2005-01-25 06:52:05</td>\n      <td>Apollo 13 (1995)</td>\n      <td>Adventure|Drama|IMAX</td>\n    </tr>\n    <tr>\n      <th>878</th>\n      <td>7</td>\n      <td>165</td>\n      <td>4.0</td>\n      <td>2005-01-25 06:53:07</td>\n      <td>Die Hard: With a Vengeance (1995)</td>\n      <td>Action|Crime|Thriller</td>\n    </tr>\n    <tr>\n      <th>...</th>\n      <td>...</td>\n      <td>...</td>\n      <td>...</td>\n      <td>...</td>\n      <td>...</td>\n      <td>...</td>\n    </tr>\n    <tr>\n      <th>99466</th>\n      <td>608</td>\n      <td>30810</td>\n      <td>3.0</td>\n      <td>2005-05-29 23:07:09</td>\n      <td>Life Aquatic with Steve Zissou, The (2004)</td>\n      <td>Adventure|Comedy|Fantasy</td>\n    </tr>\n    <tr>\n      <th>99467</th>\n      <td>608</td>\n      <td>30822</td>\n      <td>4.0</td>\n      <td>2005-05-29 23:18:37</td>\n      <td>In Good Company (2004)</td>\n      <td>Comedy|Drama</td>\n    </tr>\n    <tr>\n      <th>99468</th>\n      <td>608</td>\n      <td>31221</td>\n      <td>4.0</td>\n      <td>2005-05-31 01:48:41</td>\n      <td>Elektra (2005)</td>\n      <td>Action|Adventure|Crime|Drama</td>\n    </tr>\n    <tr>\n      <th>99469</th>\n      <td>608</td>\n      <td>31696</td>\n      <td>5.0</td>\n      <td>2005-05-29 03:19:59</td>\n      <td>Constantine (2005)</td>\n      <td>Action|Fantasy|Horror|Thriller</td>\n    </tr>\n    <tr>\n      <th>99473</th>\n      <td>608</td>\n      <td>32587</td>\n      <td>5.0</td>\n      <td>2005-05-27 02:50:47</td>\n      <td>Sin City (2005)</td>\n      <td>Action|Crime|Film-Noir|Mystery|Thriller</td>\n    </tr>\n  </tbody>\n</table>\n<p>5810 rows × 6 columns</p>\n</div>"
     },
     "execution_count": 45,
     "metadata": {},
     "output_type": "execute_result"
    }
   ],
   "source": [
    "movies_2005 = merged_data.loc[(merged_data['timestamp'] >= '2005-01-01') & (merged_data['timestamp'] <= '2005-12-31')]\n",
    "movies_2005"
   ],
   "metadata": {
    "collapsed": false,
    "ExecuteTime": {
     "end_time": "2024-01-30T03:34:59.715656Z",
     "start_time": "2024-01-30T03:34:59.692007Z"
    }
   },
   "id": "9d71f30798aa617c",
   "execution_count": 45
  },
  {
   "cell_type": "code",
   "outputs": [
    {
     "data": {
      "text/plain": "3.431669535283993"
     },
     "execution_count": 46,
     "metadata": {},
     "output_type": "execute_result"
    }
   ],
   "source": [
    "movies_2005['rating'].mean()\n"
   ],
   "metadata": {
    "collapsed": false,
    "ExecuteTime": {
     "end_time": "2024-01-30T03:36:25.434803Z",
     "start_time": "2024-01-30T03:36:25.430701Z"
    }
   },
   "id": "3a5bdb1d88cf4e34",
   "execution_count": 46
  },
  {
   "cell_type": "code",
   "outputs": [
    {
     "data": {
      "text/plain": "5.0"
     },
     "execution_count": 47,
     "metadata": {},
     "output_type": "execute_result"
    }
   ],
   "source": [
    "movies_2005['rating'].max()"
   ],
   "metadata": {
    "collapsed": false,
    "ExecuteTime": {
     "end_time": "2024-01-30T03:36:49.319722Z",
     "start_time": "2024-01-30T03:36:49.316716Z"
    }
   },
   "id": "997efa39ca802798",
   "execution_count": 47
  },
  {
   "cell_type": "markdown",
   "source": [
    "\n",
    "¿Cuáles fueron los géneros mejor rankeados en promedio en el año 2005?"
   ],
   "metadata": {
    "collapsed": false
   },
   "id": "4424346809210593"
  },
  {
   "cell_type": "code",
   "outputs": [
    {
     "data": {
      "text/plain": "       userId  movieId  rating           timestamp  \\\n879         7      260     5.0 2005-01-25 06:52:13   \n880         7      356     5.0 2005-01-25 06:51:55   \n882         7      466     5.0 2005-01-25 06:45:32   \n883         7      480     5.0 2005-01-25 06:51:57   \n888         7      593     5.0 2005-01-25 06:51:52   \n...       ...      ...     ...                 ...   \n99427     608     7439     5.0 2005-05-31 01:41:29   \n99452     608     8810     5.0 2005-05-30 01:14:07   \n99454     608     8874     5.0 2005-05-30 22:14:57   \n99469     608    31696     5.0 2005-05-29 03:19:59   \n99473     608    32587     5.0 2005-05-27 02:50:47   \n\n                                           title  \\\n879    Star Wars: Episode IV - A New Hope (1977)   \n880                          Forrest Gump (1994)   \n882                  Hot Shots! Part Deux (1993)   \n883                         Jurassic Park (1993)   \n888             Silence of the Lambs, The (1991)   \n...                                          ...   \n99427                       Punisher, The (2004)   \n99452             AVP: Alien vs. Predator (2004)   \n99454                   Shaun of the Dead (2004)   \n99469                         Constantine (2005)   \n99473                            Sin City (2005)   \n\n                                        genres  \n879                    Action|Adventure|Sci-Fi  \n880                   Comedy|Drama|Romance|War  \n882                          Action|Comedy|War  \n883           Action|Adventure|Sci-Fi|Thriller  \n888                      Crime|Horror|Thriller  \n...                                        ...  \n99427                    Action|Crime|Thriller  \n99452            Action|Horror|Sci-Fi|Thriller  \n99454                            Comedy|Horror  \n99469           Action|Fantasy|Horror|Thriller  \n99473  Action|Crime|Film-Noir|Mystery|Thriller  \n\n[432 rows x 6 columns]",
      "text/html": "<div>\n<style scoped>\n    .dataframe tbody tr th:only-of-type {\n        vertical-align: middle;\n    }\n\n    .dataframe tbody tr th {\n        vertical-align: top;\n    }\n\n    .dataframe thead th {\n        text-align: right;\n    }\n</style>\n<table border=\"1\" class=\"dataframe\">\n  <thead>\n    <tr style=\"text-align: right;\">\n      <th></th>\n      <th>userId</th>\n      <th>movieId</th>\n      <th>rating</th>\n      <th>timestamp</th>\n      <th>title</th>\n      <th>genres</th>\n    </tr>\n  </thead>\n  <tbody>\n    <tr>\n      <th>879</th>\n      <td>7</td>\n      <td>260</td>\n      <td>5.0</td>\n      <td>2005-01-25 06:52:13</td>\n      <td>Star Wars: Episode IV - A New Hope (1977)</td>\n      <td>Action|Adventure|Sci-Fi</td>\n    </tr>\n    <tr>\n      <th>880</th>\n      <td>7</td>\n      <td>356</td>\n      <td>5.0</td>\n      <td>2005-01-25 06:51:55</td>\n      <td>Forrest Gump (1994)</td>\n      <td>Comedy|Drama|Romance|War</td>\n    </tr>\n    <tr>\n      <th>882</th>\n      <td>7</td>\n      <td>466</td>\n      <td>5.0</td>\n      <td>2005-01-25 06:45:32</td>\n      <td>Hot Shots! Part Deux (1993)</td>\n      <td>Action|Comedy|War</td>\n    </tr>\n    <tr>\n      <th>883</th>\n      <td>7</td>\n      <td>480</td>\n      <td>5.0</td>\n      <td>2005-01-25 06:51:57</td>\n      <td>Jurassic Park (1993)</td>\n      <td>Action|Adventure|Sci-Fi|Thriller</td>\n    </tr>\n    <tr>\n      <th>888</th>\n      <td>7</td>\n      <td>593</td>\n      <td>5.0</td>\n      <td>2005-01-25 06:51:52</td>\n      <td>Silence of the Lambs, The (1991)</td>\n      <td>Crime|Horror|Thriller</td>\n    </tr>\n    <tr>\n      <th>...</th>\n      <td>...</td>\n      <td>...</td>\n      <td>...</td>\n      <td>...</td>\n      <td>...</td>\n      <td>...</td>\n    </tr>\n    <tr>\n      <th>99427</th>\n      <td>608</td>\n      <td>7439</td>\n      <td>5.0</td>\n      <td>2005-05-31 01:41:29</td>\n      <td>Punisher, The (2004)</td>\n      <td>Action|Crime|Thriller</td>\n    </tr>\n    <tr>\n      <th>99452</th>\n      <td>608</td>\n      <td>8810</td>\n      <td>5.0</td>\n      <td>2005-05-30 01:14:07</td>\n      <td>AVP: Alien vs. Predator (2004)</td>\n      <td>Action|Horror|Sci-Fi|Thriller</td>\n    </tr>\n    <tr>\n      <th>99454</th>\n      <td>608</td>\n      <td>8874</td>\n      <td>5.0</td>\n      <td>2005-05-30 22:14:57</td>\n      <td>Shaun of the Dead (2004)</td>\n      <td>Comedy|Horror</td>\n    </tr>\n    <tr>\n      <th>99469</th>\n      <td>608</td>\n      <td>31696</td>\n      <td>5.0</td>\n      <td>2005-05-29 03:19:59</td>\n      <td>Constantine (2005)</td>\n      <td>Action|Fantasy|Horror|Thriller</td>\n    </tr>\n    <tr>\n      <th>99473</th>\n      <td>608</td>\n      <td>32587</td>\n      <td>5.0</td>\n      <td>2005-05-27 02:50:47</td>\n      <td>Sin City (2005)</td>\n      <td>Action|Crime|Film-Noir|Mystery|Thriller</td>\n    </tr>\n  </tbody>\n</table>\n<p>432 rows × 6 columns</p>\n</div>"
     },
     "execution_count": 52,
     "metadata": {},
     "output_type": "execute_result"
    }
   ],
   "source": [
    "filtered_movies=movies_2005.loc[movies_2005['rating'] == 5]\n",
    "filtered_movies"
   ],
   "metadata": {
    "collapsed": false,
    "ExecuteTime": {
     "end_time": "2024-01-30T03:44:34.490186Z",
     "start_time": "2024-01-30T03:44:34.476244Z"
    }
   },
   "id": "456427515e021444",
   "execution_count": 52
  },
  {
   "cell_type": "markdown",
   "source": [
    "¿Cuál es el top 5 de películas mejor rankeadas en promedio?"
   ],
   "metadata": {
    "collapsed": false
   },
   "id": "2b2678efc0d95f0b"
  },
  {
   "cell_type": "code",
   "outputs": [
    {
     "data": {
      "text/plain": "genres\nDrama        203\nComedy       147\nAction       131\nThriller     109\nAdventure     97\nName: count, dtype: int64"
     },
     "execution_count": 53,
     "metadata": {},
     "output_type": "execute_result"
    }
   ],
   "source": [
    "genre_counts = filtered_movies['genres'].str.split('|').explode().value_counts()\n",
    "\n",
    "# Obtener el top 5 de géneros más comunes\n",
    "top_5_genres = genre_counts.head(5)\n",
    "top_5_genres"
   ],
   "metadata": {
    "collapsed": false,
    "ExecuteTime": {
     "end_time": "2024-01-30T03:44:42.580429Z",
     "start_time": "2024-01-30T03:44:42.560835Z"
    }
   },
   "id": "47e640cf7c567125",
   "execution_count": 53
  },
  {
   "cell_type": "markdown",
   "source": [
    "Preguntas:\n",
    "\n",
    "\n",
    "¿Cuáles fueron los géneros mejor rankeados en promedio en el año 2005?\n",
    "¿Cuál es el top 5 de películas mejor rankeadas en promedio?\n",
    "¿Cuál es el género con más revies?\n",
    "¿Cuáles es el género por año con mejor rating entre el año 2000 y 2010?\n",
    "¿Cuál es el usuario con más críticas y cuál es su género favorito?"
   ],
   "metadata": {
    "collapsed": false
   },
   "id": "7d5ad9a42f205fa1"
  }
 ],
 "metadata": {
  "kernelspec": {
   "display_name": "Python 3",
   "language": "python",
   "name": "python3"
  },
  "language_info": {
   "codemirror_mode": {
    "name": "ipython",
    "version": 2
   },
   "file_extension": ".py",
   "mimetype": "text/x-python",
   "name": "python",
   "nbconvert_exporter": "python",
   "pygments_lexer": "ipython2",
   "version": "2.7.6"
  }
 },
 "nbformat": 4,
 "nbformat_minor": 5
}

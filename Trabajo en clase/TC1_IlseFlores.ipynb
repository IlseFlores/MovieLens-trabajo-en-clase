{
 "cells": [
  {
   "cell_type": "code",
   "execution_count": 4,
   "id": "initial_id",
   "metadata": {
    "collapsed": true,
    "ExecuteTime": {
     "end_time": "2024-01-30T03:09:13.953810Z",
     "start_time": "2024-01-30T03:09:13.939014Z"
    }
   },
   "outputs": [],
   "source": [
    "import pandas as pd\n",
    "\n"
   ]
  },
  {
   "cell_type": "code",
   "outputs": [],
   "source": [
    "rating = pd.read_csv(\"/Users/reginaflores/Documents/ProyectoCDRepos/MovieLens-trabajo-en-clase/data/movies.csv\")\n",
    "movies = pd.read_csv(\"/Users/reginaflores/Documents/ProyectoCDRepos/MovieLens-trabajo-en-clase/data/ratings.csv\")\n"
   ],
   "metadata": {
    "collapsed": false,
    "ExecuteTime": {
     "end_time": "2024-01-30T03:09:22.113469Z",
     "start_time": "2024-01-30T03:09:22.070293Z"
    }
   },
   "id": "bc1760f93610ba7c",
   "execution_count": 6
  },
  {
   "cell_type": "code",
   "outputs": [],
   "source": [],
   "metadata": {
    "collapsed": false,
    "ExecuteTime": {
     "end_time": "2024-01-30T03:09:13.989696Z",
     "start_time": "2024-01-30T03:09:13.986084Z"
    }
   },
   "id": "26d8c892eee55b8e",
   "execution_count": 5
  }
 ],
 "metadata": {
  "kernelspec": {
   "display_name": "Python 3",
   "language": "python",
   "name": "python3"
  },
  "language_info": {
   "codemirror_mode": {
    "name": "ipython",
    "version": 2
   },
   "file_extension": ".py",
   "mimetype": "text/x-python",
   "name": "python",
   "nbconvert_exporter": "python",
   "pygments_lexer": "ipython2",
   "version": "2.7.6"
  }
 },
 "nbformat": 4,
 "nbformat_minor": 5
}

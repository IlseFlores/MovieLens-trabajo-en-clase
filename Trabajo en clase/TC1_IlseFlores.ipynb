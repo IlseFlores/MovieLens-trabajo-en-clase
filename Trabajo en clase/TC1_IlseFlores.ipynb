{
 "cells": [
  {
   "cell_type": "code",
   "execution_count": 2,
   "id": "initial_id",
   "metadata": {
    "collapsed": true,
    "ExecuteTime": {
     "end_time": "2024-01-31T23:10:58.131367Z",
     "start_time": "2024-01-31T23:10:55.261189Z"
    }
   },
   "outputs": [
    {
     "name": "stderr",
     "output_type": "stream",
     "text": [
      "/var/folders/03/n892pfl91qs5w3pt_jgmkj5m0000gn/T/ipykernel_4127/143829913.py:1: DeprecationWarning: \n",
      "Pyarrow will become a required dependency of pandas in the next major release of pandas (pandas 3.0),\n",
      "(to allow more performant data types, such as the Arrow string type, and better interoperability with other libraries)\n",
      "but was not found to be installed on your system.\n",
      "If this would cause problems for you,\n",
      "please provide us feedback at https://github.com/pandas-dev/pandas/issues/54466\n",
      "        \n",
      "  import pandas as pd\n"
     ]
    }
   ],
   "source": [
    "import pandas as pd\n",
    "\n"
   ]
  },
  {
   "cell_type": "code",
   "outputs": [],
   "source": [
    "rating = pd.read_csv(\"/Users/reginaflores/Documents/ProyectoCDRepos/MovieLens-trabajo-en-clase/data/movies.csv\")\n",
    "movies = pd.read_csv(\"/Users/reginaflores/Documents/ProyectoCDRepos/MovieLens-trabajo-en-clase/data/ratings.csv\")\n"
   ],
   "metadata": {
    "collapsed": false,
    "ExecuteTime": {
     "end_time": "2024-01-31T23:10:58.181520Z",
     "start_time": "2024-01-31T23:10:58.131216Z"
    }
   },
   "id": "bc1760f93610ba7c",
   "execution_count": 3
  },
  {
   "cell_type": "code",
   "outputs": [
    {
     "data": {
      "text/plain": "        userId  movieId  rating   timestamp\n0            1        1     4.0   964982703\n1            1        3     4.0   964981247\n2            1        6     4.0   964982224\n3            1       47     5.0   964983815\n4            1       50     5.0   964982931\n...        ...      ...     ...         ...\n100831     610   166534     4.0  1493848402\n100832     610   168248     5.0  1493850091\n100833     610   168250     5.0  1494273047\n100834     610   168252     5.0  1493846352\n100835     610   170875     3.0  1493846415\n\n[100836 rows x 4 columns]",
      "text/html": "<div>\n<style scoped>\n    .dataframe tbody tr th:only-of-type {\n        vertical-align: middle;\n    }\n\n    .dataframe tbody tr th {\n        vertical-align: top;\n    }\n\n    .dataframe thead th {\n        text-align: right;\n    }\n</style>\n<table border=\"1\" class=\"dataframe\">\n  <thead>\n    <tr style=\"text-align: right;\">\n      <th></th>\n      <th>userId</th>\n      <th>movieId</th>\n      <th>rating</th>\n      <th>timestamp</th>\n    </tr>\n  </thead>\n  <tbody>\n    <tr>\n      <th>0</th>\n      <td>1</td>\n      <td>1</td>\n      <td>4.0</td>\n      <td>964982703</td>\n    </tr>\n    <tr>\n      <th>1</th>\n      <td>1</td>\n      <td>3</td>\n      <td>4.0</td>\n      <td>964981247</td>\n    </tr>\n    <tr>\n      <th>2</th>\n      <td>1</td>\n      <td>6</td>\n      <td>4.0</td>\n      <td>964982224</td>\n    </tr>\n    <tr>\n      <th>3</th>\n      <td>1</td>\n      <td>47</td>\n      <td>5.0</td>\n      <td>964983815</td>\n    </tr>\n    <tr>\n      <th>4</th>\n      <td>1</td>\n      <td>50</td>\n      <td>5.0</td>\n      <td>964982931</td>\n    </tr>\n    <tr>\n      <th>...</th>\n      <td>...</td>\n      <td>...</td>\n      <td>...</td>\n      <td>...</td>\n    </tr>\n    <tr>\n      <th>100831</th>\n      <td>610</td>\n      <td>166534</td>\n      <td>4.0</td>\n      <td>1493848402</td>\n    </tr>\n    <tr>\n      <th>100832</th>\n      <td>610</td>\n      <td>168248</td>\n      <td>5.0</td>\n      <td>1493850091</td>\n    </tr>\n    <tr>\n      <th>100833</th>\n      <td>610</td>\n      <td>168250</td>\n      <td>5.0</td>\n      <td>1494273047</td>\n    </tr>\n    <tr>\n      <th>100834</th>\n      <td>610</td>\n      <td>168252</td>\n      <td>5.0</td>\n      <td>1493846352</td>\n    </tr>\n    <tr>\n      <th>100835</th>\n      <td>610</td>\n      <td>170875</td>\n      <td>3.0</td>\n      <td>1493846415</td>\n    </tr>\n  </tbody>\n</table>\n<p>100836 rows × 4 columns</p>\n</div>"
     },
     "execution_count": 4,
     "metadata": {},
     "output_type": "execute_result"
    }
   ],
   "source": [
    "movies\n"
   ],
   "metadata": {
    "collapsed": false,
    "ExecuteTime": {
     "end_time": "2024-01-31T23:10:58.222935Z",
     "start_time": "2024-01-31T23:10:58.176406Z"
    }
   },
   "id": "26d8c892eee55b8e",
   "execution_count": 4
  },
  {
   "cell_type": "code",
   "outputs": [
    {
     "data": {
      "text/plain": "      movieId                                      title  \\\n0           1                           Toy Story (1995)   \n1           2                             Jumanji (1995)   \n2           3                    Grumpier Old Men (1995)   \n3           4                   Waiting to Exhale (1995)   \n4           5         Father of the Bride Part II (1995)   \n...       ...                                        ...   \n9737   193581  Black Butler: Book of the Atlantic (2017)   \n9738   193583               No Game No Life: Zero (2017)   \n9739   193585                               Flint (2017)   \n9740   193587        Bungo Stray Dogs: Dead Apple (2018)   \n9741   193609        Andrew Dice Clay: Dice Rules (1991)   \n\n                                           genres  \n0     Adventure|Animation|Children|Comedy|Fantasy  \n1                      Adventure|Children|Fantasy  \n2                                  Comedy|Romance  \n3                            Comedy|Drama|Romance  \n4                                          Comedy  \n...                                           ...  \n9737              Action|Animation|Comedy|Fantasy  \n9738                     Animation|Comedy|Fantasy  \n9739                                        Drama  \n9740                             Action|Animation  \n9741                                       Comedy  \n\n[9742 rows x 3 columns]",
      "text/html": "<div>\n<style scoped>\n    .dataframe tbody tr th:only-of-type {\n        vertical-align: middle;\n    }\n\n    .dataframe tbody tr th {\n        vertical-align: top;\n    }\n\n    .dataframe thead th {\n        text-align: right;\n    }\n</style>\n<table border=\"1\" class=\"dataframe\">\n  <thead>\n    <tr style=\"text-align: right;\">\n      <th></th>\n      <th>movieId</th>\n      <th>title</th>\n      <th>genres</th>\n    </tr>\n  </thead>\n  <tbody>\n    <tr>\n      <th>0</th>\n      <td>1</td>\n      <td>Toy Story (1995)</td>\n      <td>Adventure|Animation|Children|Comedy|Fantasy</td>\n    </tr>\n    <tr>\n      <th>1</th>\n      <td>2</td>\n      <td>Jumanji (1995)</td>\n      <td>Adventure|Children|Fantasy</td>\n    </tr>\n    <tr>\n      <th>2</th>\n      <td>3</td>\n      <td>Grumpier Old Men (1995)</td>\n      <td>Comedy|Romance</td>\n    </tr>\n    <tr>\n      <th>3</th>\n      <td>4</td>\n      <td>Waiting to Exhale (1995)</td>\n      <td>Comedy|Drama|Romance</td>\n    </tr>\n    <tr>\n      <th>4</th>\n      <td>5</td>\n      <td>Father of the Bride Part II (1995)</td>\n      <td>Comedy</td>\n    </tr>\n    <tr>\n      <th>...</th>\n      <td>...</td>\n      <td>...</td>\n      <td>...</td>\n    </tr>\n    <tr>\n      <th>9737</th>\n      <td>193581</td>\n      <td>Black Butler: Book of the Atlantic (2017)</td>\n      <td>Action|Animation|Comedy|Fantasy</td>\n    </tr>\n    <tr>\n      <th>9738</th>\n      <td>193583</td>\n      <td>No Game No Life: Zero (2017)</td>\n      <td>Animation|Comedy|Fantasy</td>\n    </tr>\n    <tr>\n      <th>9739</th>\n      <td>193585</td>\n      <td>Flint (2017)</td>\n      <td>Drama</td>\n    </tr>\n    <tr>\n      <th>9740</th>\n      <td>193587</td>\n      <td>Bungo Stray Dogs: Dead Apple (2018)</td>\n      <td>Action|Animation</td>\n    </tr>\n    <tr>\n      <th>9741</th>\n      <td>193609</td>\n      <td>Andrew Dice Clay: Dice Rules (1991)</td>\n      <td>Comedy</td>\n    </tr>\n  </tbody>\n</table>\n<p>9742 rows × 3 columns</p>\n</div>"
     },
     "execution_count": 5,
     "metadata": {},
     "output_type": "execute_result"
    }
   ],
   "source": [
    "rating"
   ],
   "metadata": {
    "collapsed": false,
    "ExecuteTime": {
     "end_time": "2024-01-31T23:10:58.241539Z",
     "start_time": "2024-01-31T23:10:58.196340Z"
    }
   },
   "id": "c5c8247b7956ff39",
   "execution_count": 5
  },
  {
   "cell_type": "markdown",
   "source": [],
   "metadata": {
    "collapsed": false
   },
   "id": "fb2bea66fcd6830c"
  },
  {
   "cell_type": "code",
   "outputs": [
    {
     "data": {
      "text/plain": "        userId  movieId  rating   timestamp                           title  \\\n0            1        1     4.0   964982703                Toy Story (1995)   \n1            1        3     4.0   964981247         Grumpier Old Men (1995)   \n2            1        6     4.0   964982224                     Heat (1995)   \n3            1       47     5.0   964983815     Seven (a.k.a. Se7en) (1995)   \n4            1       50     5.0   964982931      Usual Suspects, The (1995)   \n...        ...      ...     ...         ...                             ...   \n100831     610   166534     4.0  1493848402                    Split (2017)   \n100832     610   168248     5.0  1493850091   John Wick: Chapter Two (2017)   \n100833     610   168250     5.0  1494273047                  Get Out (2017)   \n100834     610   168252     5.0  1493846352                    Logan (2017)   \n100835     610   170875     3.0  1493846415  The Fate of the Furious (2017)   \n\n                                             genres  \n0       Adventure|Animation|Children|Comedy|Fantasy  \n1                                    Comedy|Romance  \n2                             Action|Crime|Thriller  \n3                                  Mystery|Thriller  \n4                            Crime|Mystery|Thriller  \n...                                             ...  \n100831                        Drama|Horror|Thriller  \n100832                        Action|Crime|Thriller  \n100833                                       Horror  \n100834                                Action|Sci-Fi  \n100835                  Action|Crime|Drama|Thriller  \n\n[100836 rows x 6 columns]",
      "text/html": "<div>\n<style scoped>\n    .dataframe tbody tr th:only-of-type {\n        vertical-align: middle;\n    }\n\n    .dataframe tbody tr th {\n        vertical-align: top;\n    }\n\n    .dataframe thead th {\n        text-align: right;\n    }\n</style>\n<table border=\"1\" class=\"dataframe\">\n  <thead>\n    <tr style=\"text-align: right;\">\n      <th></th>\n      <th>userId</th>\n      <th>movieId</th>\n      <th>rating</th>\n      <th>timestamp</th>\n      <th>title</th>\n      <th>genres</th>\n    </tr>\n  </thead>\n  <tbody>\n    <tr>\n      <th>0</th>\n      <td>1</td>\n      <td>1</td>\n      <td>4.0</td>\n      <td>964982703</td>\n      <td>Toy Story (1995)</td>\n      <td>Adventure|Animation|Children|Comedy|Fantasy</td>\n    </tr>\n    <tr>\n      <th>1</th>\n      <td>1</td>\n      <td>3</td>\n      <td>4.0</td>\n      <td>964981247</td>\n      <td>Grumpier Old Men (1995)</td>\n      <td>Comedy|Romance</td>\n    </tr>\n    <tr>\n      <th>2</th>\n      <td>1</td>\n      <td>6</td>\n      <td>4.0</td>\n      <td>964982224</td>\n      <td>Heat (1995)</td>\n      <td>Action|Crime|Thriller</td>\n    </tr>\n    <tr>\n      <th>3</th>\n      <td>1</td>\n      <td>47</td>\n      <td>5.0</td>\n      <td>964983815</td>\n      <td>Seven (a.k.a. Se7en) (1995)</td>\n      <td>Mystery|Thriller</td>\n    </tr>\n    <tr>\n      <th>4</th>\n      <td>1</td>\n      <td>50</td>\n      <td>5.0</td>\n      <td>964982931</td>\n      <td>Usual Suspects, The (1995)</td>\n      <td>Crime|Mystery|Thriller</td>\n    </tr>\n    <tr>\n      <th>...</th>\n      <td>...</td>\n      <td>...</td>\n      <td>...</td>\n      <td>...</td>\n      <td>...</td>\n      <td>...</td>\n    </tr>\n    <tr>\n      <th>100831</th>\n      <td>610</td>\n      <td>166534</td>\n      <td>4.0</td>\n      <td>1493848402</td>\n      <td>Split (2017)</td>\n      <td>Drama|Horror|Thriller</td>\n    </tr>\n    <tr>\n      <th>100832</th>\n      <td>610</td>\n      <td>168248</td>\n      <td>5.0</td>\n      <td>1493850091</td>\n      <td>John Wick: Chapter Two (2017)</td>\n      <td>Action|Crime|Thriller</td>\n    </tr>\n    <tr>\n      <th>100833</th>\n      <td>610</td>\n      <td>168250</td>\n      <td>5.0</td>\n      <td>1494273047</td>\n      <td>Get Out (2017)</td>\n      <td>Horror</td>\n    </tr>\n    <tr>\n      <th>100834</th>\n      <td>610</td>\n      <td>168252</td>\n      <td>5.0</td>\n      <td>1493846352</td>\n      <td>Logan (2017)</td>\n      <td>Action|Sci-Fi</td>\n    </tr>\n    <tr>\n      <th>100835</th>\n      <td>610</td>\n      <td>170875</td>\n      <td>3.0</td>\n      <td>1493846415</td>\n      <td>The Fate of the Furious (2017)</td>\n      <td>Action|Crime|Drama|Thriller</td>\n    </tr>\n  </tbody>\n</table>\n<p>100836 rows × 6 columns</p>\n</div>"
     },
     "execution_count": 6,
     "metadata": {},
     "output_type": "execute_result"
    }
   ],
   "source": [
    "merged_data = pd.merge(movies, rating, on='movieId')\n",
    "merged_data"
   ],
   "metadata": {
    "collapsed": false,
    "ExecuteTime": {
     "end_time": "2024-01-31T23:10:58.243232Z",
     "start_time": "2024-01-31T23:10:58.210610Z"
    }
   },
   "id": "7a2ef94a85415272",
   "execution_count": 6
  },
  {
   "cell_type": "code",
   "outputs": [
    {
     "data": {
      "text/plain": "        userId  movieId  rating           timestamp  \\\n0            1        1     4.0 2000-07-30 18:45:03   \n1            1        3     4.0 2000-07-30 18:20:47   \n2            1        6     4.0 2000-07-30 18:37:04   \n3            1       47     5.0 2000-07-30 19:03:35   \n4            1       50     5.0 2000-07-30 18:48:51   \n...        ...      ...     ...                 ...   \n100831     610   166534     4.0 2017-05-03 21:53:22   \n100832     610   168248     5.0 2017-05-03 22:21:31   \n100833     610   168250     5.0 2017-05-08 19:50:47   \n100834     610   168252     5.0 2017-05-03 21:19:12   \n100835     610   170875     3.0 2017-05-03 21:20:15   \n\n                                 title  \\\n0                     Toy Story (1995)   \n1              Grumpier Old Men (1995)   \n2                          Heat (1995)   \n3          Seven (a.k.a. Se7en) (1995)   \n4           Usual Suspects, The (1995)   \n...                                ...   \n100831                    Split (2017)   \n100832   John Wick: Chapter Two (2017)   \n100833                  Get Out (2017)   \n100834                    Logan (2017)   \n100835  The Fate of the Furious (2017)   \n\n                                             genres  \n0       Adventure|Animation|Children|Comedy|Fantasy  \n1                                    Comedy|Romance  \n2                             Action|Crime|Thriller  \n3                                  Mystery|Thriller  \n4                            Crime|Mystery|Thriller  \n...                                             ...  \n100831                        Drama|Horror|Thriller  \n100832                        Action|Crime|Thriller  \n100833                                       Horror  \n100834                                Action|Sci-Fi  \n100835                  Action|Crime|Drama|Thriller  \n\n[100836 rows x 6 columns]",
      "text/html": "<div>\n<style scoped>\n    .dataframe tbody tr th:only-of-type {\n        vertical-align: middle;\n    }\n\n    .dataframe tbody tr th {\n        vertical-align: top;\n    }\n\n    .dataframe thead th {\n        text-align: right;\n    }\n</style>\n<table border=\"1\" class=\"dataframe\">\n  <thead>\n    <tr style=\"text-align: right;\">\n      <th></th>\n      <th>userId</th>\n      <th>movieId</th>\n      <th>rating</th>\n      <th>timestamp</th>\n      <th>title</th>\n      <th>genres</th>\n    </tr>\n  </thead>\n  <tbody>\n    <tr>\n      <th>0</th>\n      <td>1</td>\n      <td>1</td>\n      <td>4.0</td>\n      <td>2000-07-30 18:45:03</td>\n      <td>Toy Story (1995)</td>\n      <td>Adventure|Animation|Children|Comedy|Fantasy</td>\n    </tr>\n    <tr>\n      <th>1</th>\n      <td>1</td>\n      <td>3</td>\n      <td>4.0</td>\n      <td>2000-07-30 18:20:47</td>\n      <td>Grumpier Old Men (1995)</td>\n      <td>Comedy|Romance</td>\n    </tr>\n    <tr>\n      <th>2</th>\n      <td>1</td>\n      <td>6</td>\n      <td>4.0</td>\n      <td>2000-07-30 18:37:04</td>\n      <td>Heat (1995)</td>\n      <td>Action|Crime|Thriller</td>\n    </tr>\n    <tr>\n      <th>3</th>\n      <td>1</td>\n      <td>47</td>\n      <td>5.0</td>\n      <td>2000-07-30 19:03:35</td>\n      <td>Seven (a.k.a. Se7en) (1995)</td>\n      <td>Mystery|Thriller</td>\n    </tr>\n    <tr>\n      <th>4</th>\n      <td>1</td>\n      <td>50</td>\n      <td>5.0</td>\n      <td>2000-07-30 18:48:51</td>\n      <td>Usual Suspects, The (1995)</td>\n      <td>Crime|Mystery|Thriller</td>\n    </tr>\n    <tr>\n      <th>...</th>\n      <td>...</td>\n      <td>...</td>\n      <td>...</td>\n      <td>...</td>\n      <td>...</td>\n      <td>...</td>\n    </tr>\n    <tr>\n      <th>100831</th>\n      <td>610</td>\n      <td>166534</td>\n      <td>4.0</td>\n      <td>2017-05-03 21:53:22</td>\n      <td>Split (2017)</td>\n      <td>Drama|Horror|Thriller</td>\n    </tr>\n    <tr>\n      <th>100832</th>\n      <td>610</td>\n      <td>168248</td>\n      <td>5.0</td>\n      <td>2017-05-03 22:21:31</td>\n      <td>John Wick: Chapter Two (2017)</td>\n      <td>Action|Crime|Thriller</td>\n    </tr>\n    <tr>\n      <th>100833</th>\n      <td>610</td>\n      <td>168250</td>\n      <td>5.0</td>\n      <td>2017-05-08 19:50:47</td>\n      <td>Get Out (2017)</td>\n      <td>Horror</td>\n    </tr>\n    <tr>\n      <th>100834</th>\n      <td>610</td>\n      <td>168252</td>\n      <td>5.0</td>\n      <td>2017-05-03 21:19:12</td>\n      <td>Logan (2017)</td>\n      <td>Action|Sci-Fi</td>\n    </tr>\n    <tr>\n      <th>100835</th>\n      <td>610</td>\n      <td>170875</td>\n      <td>3.0</td>\n      <td>2017-05-03 21:20:15</td>\n      <td>The Fate of the Furious (2017)</td>\n      <td>Action|Crime|Drama|Thriller</td>\n    </tr>\n  </tbody>\n</table>\n<p>100836 rows × 6 columns</p>\n</div>"
     },
     "execution_count": 7,
     "metadata": {},
     "output_type": "execute_result"
    }
   ],
   "source": [
    "#convertir timestamp en fecha normal \n",
    "merged_data['timestamp']=pd.to_datetime(merged_data['timestamp'], unit= 's')\n",
    "merged_data\n"
   ],
   "metadata": {
    "collapsed": false,
    "ExecuteTime": {
     "end_time": "2024-01-31T23:10:58.428547Z",
     "start_time": "2024-01-31T23:10:58.224938Z"
    }
   },
   "id": "4622bc7a0caa9f65",
   "execution_count": 7
  },
  {
   "cell_type": "markdown",
   "source": [
    "\n",
    "¿Cuáles fueron los géneros mejor rankeados en promedio en el año 2005?"
   ],
   "metadata": {
    "collapsed": false
   },
   "id": "4424346809210593"
  },
  {
   "cell_type": "code",
   "outputs": [
    {
     "data": {
      "text/plain": "       userId  movieId  rating           timestamp  \\\n874         7        1     4.5 2005-01-25 06:52:26   \n875         7       50     4.5 2005-01-25 06:53:13   \n876         7       58     3.0 2005-01-25 06:45:20   \n877         7      150     4.5 2005-01-25 06:52:05   \n878         7      165     4.0 2005-01-25 06:53:07   \n...       ...      ...     ...                 ...   \n99466     608    30810     3.0 2005-05-29 23:07:09   \n99467     608    30822     4.0 2005-05-29 23:18:37   \n99468     608    31221     4.0 2005-05-31 01:48:41   \n99469     608    31696     5.0 2005-05-29 03:19:59   \n99473     608    32587     5.0 2005-05-27 02:50:47   \n\n                                            title  \\\n874                              Toy Story (1995)   \n875                    Usual Suspects, The (1995)   \n876             Postman, The (Postino, Il) (1994)   \n877                              Apollo 13 (1995)   \n878             Die Hard: With a Vengeance (1995)   \n...                                           ...   \n99466  Life Aquatic with Steve Zissou, The (2004)   \n99467                      In Good Company (2004)   \n99468                              Elektra (2005)   \n99469                          Constantine (2005)   \n99473                             Sin City (2005)   \n\n                                            genres  \n874    Adventure|Animation|Children|Comedy|Fantasy  \n875                         Crime|Mystery|Thriller  \n876                           Comedy|Drama|Romance  \n877                           Adventure|Drama|IMAX  \n878                          Action|Crime|Thriller  \n...                                            ...  \n99466                     Adventure|Comedy|Fantasy  \n99467                                 Comedy|Drama  \n99468                 Action|Adventure|Crime|Drama  \n99469               Action|Fantasy|Horror|Thriller  \n99473      Action|Crime|Film-Noir|Mystery|Thriller  \n\n[5810 rows x 6 columns]",
      "text/html": "<div>\n<style scoped>\n    .dataframe tbody tr th:only-of-type {\n        vertical-align: middle;\n    }\n\n    .dataframe tbody tr th {\n        vertical-align: top;\n    }\n\n    .dataframe thead th {\n        text-align: right;\n    }\n</style>\n<table border=\"1\" class=\"dataframe\">\n  <thead>\n    <tr style=\"text-align: right;\">\n      <th></th>\n      <th>userId</th>\n      <th>movieId</th>\n      <th>rating</th>\n      <th>timestamp</th>\n      <th>title</th>\n      <th>genres</th>\n    </tr>\n  </thead>\n  <tbody>\n    <tr>\n      <th>874</th>\n      <td>7</td>\n      <td>1</td>\n      <td>4.5</td>\n      <td>2005-01-25 06:52:26</td>\n      <td>Toy Story (1995)</td>\n      <td>Adventure|Animation|Children|Comedy|Fantasy</td>\n    </tr>\n    <tr>\n      <th>875</th>\n      <td>7</td>\n      <td>50</td>\n      <td>4.5</td>\n      <td>2005-01-25 06:53:13</td>\n      <td>Usual Suspects, The (1995)</td>\n      <td>Crime|Mystery|Thriller</td>\n    </tr>\n    <tr>\n      <th>876</th>\n      <td>7</td>\n      <td>58</td>\n      <td>3.0</td>\n      <td>2005-01-25 06:45:20</td>\n      <td>Postman, The (Postino, Il) (1994)</td>\n      <td>Comedy|Drama|Romance</td>\n    </tr>\n    <tr>\n      <th>877</th>\n      <td>7</td>\n      <td>150</td>\n      <td>4.5</td>\n      <td>2005-01-25 06:52:05</td>\n      <td>Apollo 13 (1995)</td>\n      <td>Adventure|Drama|IMAX</td>\n    </tr>\n    <tr>\n      <th>878</th>\n      <td>7</td>\n      <td>165</td>\n      <td>4.0</td>\n      <td>2005-01-25 06:53:07</td>\n      <td>Die Hard: With a Vengeance (1995)</td>\n      <td>Action|Crime|Thriller</td>\n    </tr>\n    <tr>\n      <th>...</th>\n      <td>...</td>\n      <td>...</td>\n      <td>...</td>\n      <td>...</td>\n      <td>...</td>\n      <td>...</td>\n    </tr>\n    <tr>\n      <th>99466</th>\n      <td>608</td>\n      <td>30810</td>\n      <td>3.0</td>\n      <td>2005-05-29 23:07:09</td>\n      <td>Life Aquatic with Steve Zissou, The (2004)</td>\n      <td>Adventure|Comedy|Fantasy</td>\n    </tr>\n    <tr>\n      <th>99467</th>\n      <td>608</td>\n      <td>30822</td>\n      <td>4.0</td>\n      <td>2005-05-29 23:18:37</td>\n      <td>In Good Company (2004)</td>\n      <td>Comedy|Drama</td>\n    </tr>\n    <tr>\n      <th>99468</th>\n      <td>608</td>\n      <td>31221</td>\n      <td>4.0</td>\n      <td>2005-05-31 01:48:41</td>\n      <td>Elektra (2005)</td>\n      <td>Action|Adventure|Crime|Drama</td>\n    </tr>\n    <tr>\n      <th>99469</th>\n      <td>608</td>\n      <td>31696</td>\n      <td>5.0</td>\n      <td>2005-05-29 03:19:59</td>\n      <td>Constantine (2005)</td>\n      <td>Action|Fantasy|Horror|Thriller</td>\n    </tr>\n    <tr>\n      <th>99473</th>\n      <td>608</td>\n      <td>32587</td>\n      <td>5.0</td>\n      <td>2005-05-27 02:50:47</td>\n      <td>Sin City (2005)</td>\n      <td>Action|Crime|Film-Noir|Mystery|Thriller</td>\n    </tr>\n  </tbody>\n</table>\n<p>5810 rows × 6 columns</p>\n</div>"
     },
     "execution_count": 8,
     "metadata": {},
     "output_type": "execute_result"
    }
   ],
   "source": [
    "movies_2005 = merged_data.loc[(merged_data['timestamp'] >= '2005-01-01') & (merged_data['timestamp'] <= '2005-12-31')]\n",
    "movies_2005"
   ],
   "metadata": {
    "collapsed": false,
    "ExecuteTime": {
     "end_time": "2024-01-31T23:10:58.463221Z",
     "start_time": "2024-01-31T23:10:58.249776Z"
    }
   },
   "id": "9d71f30798aa617c",
   "execution_count": 8
  },
  {
   "cell_type": "code",
   "outputs": [
    {
     "data": {
      "text/plain": "genres\nAdventure|Animation|Comedy    5.0\nAnimation|Comedy              5.0\nDrama|Mystery|Sci-Fi          5.0\nAdventure|Crime|Drama         5.0\nName: rating, dtype: float64"
     },
     "execution_count": 22,
     "metadata": {},
     "output_type": "execute_result"
    }
   ],
   "source": [
    "average_ratings_by_genre = movies_2005.groupby('genres')['rating'].mean()\n",
    "sorted_genres = average_ratings_by_genre.sort_values(ascending=False)\n",
    "best_genres = sorted_genres[sorted_genres == 5.000000]\n",
    "best_genres"
   ],
   "metadata": {
    "collapsed": false,
    "ExecuteTime": {
     "end_time": "2024-01-31T23:27:34.412231Z",
     "start_time": "2024-01-31T23:27:34.366257Z"
    }
   },
   "id": "247a7181d78acfbb",
   "execution_count": 22
  },
  {
   "cell_type": "markdown",
   "source": [
    "¿Cuál es el top 5 de películas mejor rankeadas en promedio?"
   ],
   "metadata": {
    "collapsed": false
   },
   "id": "2b2678efc0d95f0b"
  },
  {
   "cell_type": "code",
   "outputs": [
    {
     "data": {
      "text/plain": "title\nGena the Crocodile (1969)              5.0\nTrue Stories (1986)                    5.0\nCosmic Scrat-tastrophe (2015)          5.0\nLove and Pigeons (1985)                5.0\nRed Sorghum (Hong gao liang) (1987)    5.0\nName: rating, dtype: float64"
     },
     "execution_count": 27,
     "metadata": {},
     "output_type": "execute_result"
    }
   ],
   "source": [
    "average_ratings_by_movie = merged_data.groupby('title')['rating'].mean()\n",
    "sorted_movies = average_ratings_by_movie.sort_values(ascending=False)\n",
    "top_5_movies = sorted_movies.head(5)\n",
    "top_5_movies \n"
   ],
   "metadata": {
    "collapsed": false,
    "ExecuteTime": {
     "end_time": "2024-01-31T23:42:35.465702Z",
     "start_time": "2024-01-31T23:42:35.437722Z"
    }
   },
   "id": "3b3079a765c99776",
   "execution_count": 27
  },
  {
   "cell_type": "markdown",
   "source": [
    "¿Cuál es el género con más reviews?"
   ],
   "metadata": {
    "collapsed": false
   },
   "id": "1836b69ff56c0424"
  },
  {
   "cell_type": "code",
   "outputs": [
    {
     "data": {
      "text/plain": "genres\nComedy    7196\nName: rating, dtype: int64"
     },
     "execution_count": 30,
     "metadata": {},
     "output_type": "execute_result"
    }
   ],
   "source": [
    "rating_count = merged_data.groupby('genres')['rating'].count()\n",
    "rating_count.sort_values(ascending=False).head(1)"
   ],
   "metadata": {
    "collapsed": false,
    "ExecuteTime": {
     "end_time": "2024-01-31T23:47:40.664641Z",
     "start_time": "2024-01-31T23:47:40.652761Z"
    }
   },
   "id": "21f49507d21b040e",
   "execution_count": 30
  },
  {
   "cell_type": "markdown",
   "source": [
    "\n",
    "¿Cuáles es el género por año con mejor rating entre el año 2000 y 2010?\n"
   ],
   "metadata": {
    "collapsed": false
   },
   "id": "66fdfbde25f1d74d"
  },
  {
   "cell_type": "code",
   "outputs": [
    {
     "name": "stdout",
     "output_type": "stream",
     "text": [
      "year\n",
      "2000                Animation|Comedy|Drama|Fantasy\n",
      "2001                          Action|Drama|Western\n",
      "2002      Action|Adventure|Animation|Horror|Sci-Fi\n",
      "2003      Action|Adventure|Animation|Drama|Fantasy\n",
      "2004     Adventure|Children|Comedy|Fantasy|Musical\n",
      "2005                    Adventure|Animation|Comedy\n",
      "2006                    Action|Romance|War|Western\n",
      "2007    Adventure|Animation|Children|Comedy|Sci-Fi\n",
      "2008    Adventure|Animation|Children|Comedy|Sci-Fi\n",
      "2009     Action|Adventure|Mystery|Romance|Thriller\n",
      "2010                         Action|Comedy|Musical\n",
      "Name: rating, dtype: object\n"
     ]
    },
    {
     "name": "stderr",
     "output_type": "stream",
     "text": [
      "/var/folders/03/n892pfl91qs5w3pt_jgmkj5m0000gn/T/ipykernel_4127/3852657842.py:2: SettingWithCopyWarning: \n",
      "A value is trying to be set on a copy of a slice from a DataFrame.\n",
      "Try using .loc[row_indexer,col_indexer] = value instead\n",
      "\n",
      "See the caveats in the documentation: https://pandas.pydata.org/pandas-docs/stable/user_guide/indexing.html#returning-a-view-versus-a-copy\n",
      "  movies_2000_2010['year'] = pd.to_datetime(movies_2000_2010['timestamp']).dt.year\n"
     ]
    }
   ],
   "source": [
    "movies_2000_2010 = merged_data.loc[(merged_data['timestamp'] >= '2000-01-01') & (merged_data['timestamp'] <= '2010-12-31')]\n",
    "movies_2000_2010['year'] = pd.to_datetime(movies_2000_2010['timestamp']).dt.year\n",
    "average_ratings_by_year_genre = movies_2000_2010.groupby(['year', 'genres'])['rating'].mean()\n",
    "ranking=average_ratings_by_year_genre.groupby('year').idxmax().apply(lambda x: x[1])\n",
    "print(ranking)"
   ],
   "metadata": {
    "collapsed": false,
    "ExecuteTime": {
     "end_time": "2024-02-01T00:21:51.611531Z",
     "start_time": "2024-02-01T00:21:51.584218Z"
    }
   },
   "id": "8f7230af8be98538",
   "execution_count": 51
  },
  {
   "cell_type": "markdown",
   "source": [
    "Preguntas:\n",
    "\n",
    "¿Cuál es el usuario con más críticas y cuál es su género favorito?"
   ],
   "metadata": {
    "collapsed": false
   },
   "id": "7d5ad9a42f205fa1"
  },
  {
   "cell_type": "code",
   "outputs": [
    {
     "data": {
      "text/plain": "userId\n1                              Action|Adventure\n2              Action|Adventure|Sci-Fi|Thriller\n3              Action|Adventure|Sci-Fi|Thriller\n4       Action|Adventure|Comedy|Fantasy|Romance\n5                       Adventure|Drama|Western\n                         ...                   \n606    Action|Adventure|Animation|Drama|Fantasy\n607             Action|Adventure|Drama|Thriller\n608             Action|Adventure|Fantasy|Horror\n609                   Action|Adventure|Thriller\n610                                      Action\nName: rating, Length: 610, dtype: object"
     },
     "execution_count": 55,
     "metadata": {},
     "output_type": "execute_result"
    }
   ],
   "source": [
    "counting=merged_data.groupby(['userId','genres'])['rating'].max()\n",
    "counting.count()\n",
    "rating_=counting.groupby('userId').idxmax().apply(lambda x: x[1])\n",
    "rating_"
   ],
   "metadata": {
    "collapsed": false,
    "ExecuteTime": {
     "end_time": "2024-02-01T00:27:19.319352Z",
     "start_time": "2024-02-01T00:27:19.171856Z"
    }
   },
   "id": "398850873ec136fb",
   "execution_count": 55
  },
  {
   "cell_type": "code",
   "outputs": [],
   "source": [],
   "metadata": {
    "collapsed": false
   },
   "id": "b7223701697232fb"
  }
 ],
 "metadata": {
  "kernelspec": {
   "display_name": "Python 3",
   "language": "python",
   "name": "python3"
  },
  "language_info": {
   "codemirror_mode": {
    "name": "ipython",
    "version": 2
   },
   "file_extension": ".py",
   "mimetype": "text/x-python",
   "name": "python",
   "nbconvert_exporter": "python",
   "pygments_lexer": "ipython2",
   "version": "2.7.6"
  }
 },
 "nbformat": 4,
 "nbformat_minor": 5
}
